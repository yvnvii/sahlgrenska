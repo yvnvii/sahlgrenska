{
 "cells": [
  {
   "cell_type": "code",
   "execution_count": 5,
   "id": "c51c15be-1272-443d-9285-f1047ab7639e",
   "metadata": {},
   "outputs": [],
   "source": [
    "import pandas as pd"
   ]
  },
  {
   "cell_type": "code",
   "execution_count": 20,
   "id": "5aa2e5cc-99e9-4392-827c-6a6ed1bf0207",
   "metadata": {},
   "outputs": [],
   "source": [
    "# Define file paths\n",
    "mcq_path = \"MCQ_J.xpt\"               # Family history (already uploaded)\n",
    "demo_path = \"DEMO_J.xpt\"         # Demographics (already uploaded)\n",
    "\n",
    "# Load both datasets\n",
    "mcq_df = pd.read_sas(mcq_path)\n",
    "demo_df = pd.read_sas(demo_path)"
   ]
  },
  {
   "cell_type": "code",
   "execution_count": null,
   "id": "e38d0e9f-ee28-41d2-ac92-1276aeecede4",
   "metadata": {},
   "outputs": [],
   "source": []
  },
  {
   "cell_type": "code",
   "execution_count": null,
   "id": "e6bc0373-ff70-41d0-bc78-2f0e74272044",
   "metadata": {},
   "outputs": [],
   "source": []
  },
  {
   "cell_type": "code",
   "execution_count": null,
   "id": "53b51193-85ab-4c94-930b-ed5c09fb7fde",
   "metadata": {},
   "outputs": [],
   "source": []
  },
  {
   "cell_type": "code",
   "execution_count": 21,
   "id": "f12fc4e3-54b7-4a84-8ab1-9c570fcaa348",
   "metadata": {},
   "outputs": [],
   "source": [
    "# Mapping of original variable names to their readable labels from the codebook\n",
    "readable_mcq_columns = {\n",
    "    \"SEQN\": \"Respondent_ID\",\n",
    "    \"MCQ010\": \"Ever_Told_Had_Asthma\",\n",
    "    \"MCQ025\": \"Age_When_First_Had_Asthma\",\n",
    "    \"MCQ035\": \"Still_Have_Asthma\",\n",
    "    \"MCQ040\": \"Had_Asthma_Attack_Past_Year\",\n",
    "    \"MCQ050\": \"ER_Visit_For_Asthma_Past_Year\",\n",
    "    \"AGQ030\": \"Had_Hay_Fever_Past_Year\",\n",
    "    \"MCQ053\": \"Treated_For_Anemia_Past_3mo\",\n",
    "    \"MCQ080\": \"Doctor_Said_Overweight\",\n",
    "    \"MCQ092\": \"Ever_Had_Blood_Transfusion\",\n",
    "    \"MCD093\": \"Year_Received_First_Transfusion\",\n",
    "    \"MCQ149\": \"Menstrual_Periods_Started\",\n",
    "    \"MCQ151\": \"Age_First_Menstrual_Period\",\n",
    "    \"RHD018\": \"Age_Menarche_Months\",\n",
    "    \"MCQ160A\": \"Doctor_Said_Arthritis\",\n",
    "    \"MCD180A\": \"Age_Told_Had_Arthritis\",\n",
    "    \"MCQ195\": \"Type_Of_Arthritis\",\n",
    "    \"MCQ160N\": \"Doctor_Said_Gout\",\n",
    "    \"MCD180N\": \"Age_Told_Had_Gout\",\n",
    "    \"MCQ160B\": \"Told_Had_Heart_Failure\",\n",
    "    \"MCD180B\": \"Age_Told_Heart_Failure\",\n",
    "    \"MCQ160C\": \"Told_Had_Coronary_Heart_Disease\",\n",
    "    \"MCD180C\": \"Age_Told_Coronary_Heart_Disease\",\n",
    "    \"MCQ160D\": \"Told_Had_Angina\",\n",
    "    \"MCD180D\": \"Age_Told_Had_Angina\",\n",
    "    \"MCQ160E\": \"Told_Had_Heart_Attack\",\n",
    "    \"MCD180E\": \"Age_Told_Had_Heart_Attack\",\n",
    "    \"MCQ160F\": \"Told_Had_Stroke\",\n",
    "    \"MCD180F\": \"Age_Told_Had_Stroke\",\n",
    "    \"MCQ160M\": \"Told_Had_Thyroid_Problem\",\n",
    "    \"MCQ170M\": \"Still_Have_Thyroid_Problem\",\n",
    "    \"MCD180M\": \"Age_Told_Had_Thyroid_Problem\",\n",
    "    \"MCQ160G\": \"Told_Had_Emphysema\",\n",
    "    \"MCD180G\": \"Age_Told_Had_Emphysema\",\n",
    "    \"MCQ160K\": \"Told_Had_Chronic_Bronchitis\",\n",
    "    \"MCQ170K\": \"Still_Have_Chronic_Bronchitis\",\n",
    "    \"MCD180K\": \"Age_Told_Had_Chronic_Bronchitis\",\n",
    "    \"MCQ160O\": \"Told_Had_COPD\",\n",
    "    \"MCQ160L\": \"Told_Had_Liver_Condition\",\n",
    "    \"MCQ170L\": \"Still_Have_Liver_Condition\",\n",
    "    \"MCD180L\": \"Age_Told_Had_Liver_Condition\",\n",
    "    \"MCQ500\": \"Told_Had_Liver_Condition_Youth\",\n",
    "    \"MCQ510A\": \"Liver_Condition_Fatty_Liver\",\n",
    "    \"MCQ510B\": \"Liver_Condition_Fibrosis\",\n",
    "    \"MCQ510C\": \"Liver_Condition_Cirrhosis\",\n",
    "    \"MCQ510D\": \"Liver_Condition_Hepatitis\",\n",
    "    \"MCQ510E\": \"Liver_Condition_Autoimmune_Hepatitis\",\n",
    "    \"MCQ510F\": \"Liver_Condition_Other\",\n",
    "    \"MCQ520\": \"Abdominal_Pain_Past_Year\",\n",
    "    \"MCQ530\": \"Location_Of_Most_Uncomfortable_Pain\",\n",
    "    \"MCQ540\": \"Seen_Doctor_For_Pain\",\n",
    "    \"MCQ550\": \"Doctor_Said_Gallstones\",\n",
    "    \"MCQ560\": \"Had_Gallbladder_Surgery\",\n",
    "    \"MCQ570\": \"Age_First_Gallbladder_Surgery\",\n",
    "    \"MCQ203\": \"Told_Had_Jaundice\",\n",
    "    \"MCQ206\": \"Age_Told_Jaundice\",\n",
    "    \"MCQ220\": \"Told_Had_Cancer_Or_Malignancy\",\n",
    "    \"MCQ230A\": \"Type_First_Cancer\",\n",
    "    \"MCD240A\": \"Age_First_Cancer_Diagnosed\",\n",
    "    \"MCQ230B\": \"Type_Second_Cancer\",\n",
    "    \"MCD240B\": \"Age_Second_Cancer_Diagnosed\",\n",
    "    \"MCQ230C\": \"Type_Third_Cancer\",\n",
    "    \"MCD240C\": \"Age_Third_Cancer_Diagnosed\",\n",
    "    \"MCQ230D\": \"More_Than_Three_Cancers\",\n",
    "    \"MCQ300B\": \"Relative_Had_Asthma\",\n",
    "    \"MCQ300C\": \"Relative_Had_Diabetes\",\n",
    "    \"MCQ300A\": \"Relative_Had_Heart_Attack\",\n",
    "    \"MCQ366A\": \"Doctor_Told_To_Lose_Weight\",\n",
    "    \"MCQ366B\": \"Doctor_Told_To_Exercise\",\n",
    "    \"MCQ366C\": \"Doctor_Told_To_Reduce_Salt\",\n",
    "    \"MCQ366D\": \"Doctor_Told_To_Reduce_Fat_Calories\",\n",
    "    \"MCQ371A\": \"Currently_Losing_Weight\",\n",
    "    \"MCQ371B\": \"Currently_Exercising\",\n",
    "    \"MCQ371C\": \"Currently_Reducing_Salt\",\n",
    "    \"MCQ371D\": \"Currently_Reducing_Fat_Calories\",\n",
    "    \"OSQ230\": \"Currently_Taking_Osteoporosis_Meds\"\n",
    "}\n",
    "\n",
    "# Rename columns in the MCQ dataframe\n",
    "mcq_df.rename(columns=readable_mcq_columns, inplace=True)"
   ]
  },
  {
   "cell_type": "code",
   "execution_count": 22,
   "id": "ffa45ec8-22ac-4880-96d8-1bbcdd83b27f",
   "metadata": {},
   "outputs": [],
   "source": [
    "# List of columns to extract from the renamed mcq_df\n",
    "selected_mcq_columns = [\n",
    "    \"Respondent_ID\",\n",
    "    \"Ever_Told_Had_Asthma\",\n",
    "    \"Treated_For_Anemia_Past_3mo\",\n",
    "    \"Doctor_Said_Overweight\",\n",
    "    \"Ever_Had_Blood_Transfusion\",\n",
    "    \"Doctor_Said_Arthritis\",\n",
    "    \"Doctor_Said_Gout\",\n",
    "    \"Told_Had_Heart_Failure\",\n",
    "    \"Told_Had_Coronary_Heart_Disease\",\n",
    "    \"Told_Had_Angina\",\n",
    "    \"Told_Had_Heart_Attack\",\n",
    "    \"Told_Had_Stroke\",\n",
    "    \"Told_Had_Thyroid_Problem\",\n",
    "    \"Told_Had_Emphysema\",\n",
    "    \"Told_Had_Chronic_Bronchitis\",\n",
    "    \"Told_Had_COPD\",\n",
    "    \"Told_Had_Liver_Condition\",\n",
    "    \"Told_Had_Liver_Condition_Youth\",\n",
    "    \"Liver_Condition_Fatty_Liver\",\n",
    "    \"Liver_Condition_Fibrosis\",\n",
    "    \"Liver_Condition_Cirrhosis\",\n",
    "    \"Liver_Condition_Hepatitis\",\n",
    "    \"Liver_Condition_Autoimmune_Hepatitis\",\n",
    "    \"Abdominal_Pain_Past_Year\",\n",
    "    \"Location_Of_Most_Uncomfortable_Pain\",\n",
    "    \"Doctor_Said_Gallstones\",\n",
    "    \"Had_Gallbladder_Surgery\",\n",
    "    \"Told_Had_Jaundice\",\n",
    "    \"Told_Had_Cancer_Or_Malignancy\",\n",
    "    \"Type_First_Cancer\",\n",
    "    \"Relative_Had_Asthma\",\n",
    "    \"Relative_Had_Diabetes\",\n",
    "    \"Relative_Had_Heart_Attack\",\n",
    "    \"Doctor_Told_To_Lose_Weight\",\n",
    "    \"Doctor_Told_To_Exercise\",\n",
    "    \"Doctor_Told_To_Reduce_Salt\",\n",
    "    \"Doctor_Told_To_Reduce_Fat_Calories\",\n",
    "    \"Currently_Losing_Weight\",\n",
    "    \"Currently_Exercising\",\n",
    "    \"Currently_Reducing_Salt\",\n",
    "    \"Currently_Reducing_Fat_Calories\",\n",
    "    \"Currently_Taking_Osteoporosis_Meds\"\n",
    "]\n",
    "\n",
    "# Create a new DataFrame with just the selected columns\n",
    "clean_mcq_df = mcq_df[selected_mcq_columns]\n"
   ]
  },
  {
   "cell_type": "code",
   "execution_count": 23,
   "id": "f36d7fb6-cf25-47b8-9db7-fecd1dae907a",
   "metadata": {},
   "outputs": [],
   "source": [
    "# Drop rows with NaN in target or input\n",
    "clean_mcq_df = clean_mcq_df.dropna(subset=[\"Ever_Told_Had_Asthma\"])\n"
   ]
  },
  {
   "cell_type": "code",
   "execution_count": 24,
   "id": "f873b99e-3946-4148-a398-c6ed45cb381f",
   "metadata": {},
   "outputs": [],
   "source": [
    "X = clean_mcq_df.drop(columns=[\"Ever_Told_Had_Asthma\"])\n",
    "y = clean_mcq_df[\"Ever_Told_Had_Asthma\"]\n",
    "\n"
   ]
  },
  {
   "cell_type": "code",
   "execution_count": 27,
   "id": "c1591750-f6bb-4ff0-b97c-24e7e90bbf19",
   "metadata": {},
   "outputs": [],
   "source": [
    "from sklearn.model_selection import train_test_split\n",
    "from sklearn.preprocessing import StandardScaler\n",
    "\n",
    "# Train-test split\n",
    "X_train, X_test, y_train, y_test = train_test_split(X, y, test_size=0.2, random_state=42)\n",
    "\n",
    "# Scale (very important for neural nets)\n",
    "scaler = StandardScaler()\n",
    "X_train_scaled = scaler.fit_transform(X_train)\n",
    "X_test_scaled = scaler.transform(X_test)\n"
   ]
  },
  {
   "cell_type": "code",
   "execution_count": 28,
   "id": "0de207c1-d639-4559-8f5c-9342a39f7c0e",
   "metadata": {},
   "outputs": [
    {
     "name": "stdout",
     "output_type": "stream",
     "text": [
      "Epoch 1/50\n"
     ]
    },
    {
     "name": "stderr",
     "output_type": "stream",
     "text": [
      "/Users/yukiogawa/miniconda3/lib/python3.12/site-packages/keras/src/layers/core/dense.py:87: UserWarning: Do not pass an `input_shape`/`input_dim` argument to a layer. When using Sequential models, prefer using an `Input(shape)` object as the first layer in the model instead.\n",
      "  super().__init__(activity_regularizer=activity_regularizer, **kwargs)\n"
     ]
    },
    {
     "name": "stdout",
     "output_type": "stream",
     "text": [
      "\u001b[1m223/223\u001b[0m \u001b[32m━━━━━━━━━━━━━━━━━━━━\u001b[0m\u001b[37m\u001b[0m \u001b[1m1s\u001b[0m 1ms/step - accuracy: 0.8205 - loss: 0.4793 - val_accuracy: 0.8500 - val_loss: 0.4186\n",
      "Epoch 2/50\n",
      "\u001b[1m223/223\u001b[0m \u001b[32m━━━━━━━━━━━━━━━━━━━━\u001b[0m\u001b[37m\u001b[0m \u001b[1m0s\u001b[0m 844us/step - accuracy: 0.8458 - loss: 0.4082 - val_accuracy: 0.8500 - val_loss: 0.4048\n",
      "Epoch 3/50\n",
      "\u001b[1m223/223\u001b[0m \u001b[32m━━━━━━━━━━━━━━━━━━━━\u001b[0m\u001b[37m\u001b[0m \u001b[1m0s\u001b[0m 876us/step - accuracy: 0.8511 - loss: 0.3968 - val_accuracy: 0.8511 - val_loss: 0.4145\n",
      "Epoch 4/50\n",
      "\u001b[1m223/223\u001b[0m \u001b[32m━━━━━━━━━━━━━━━━━━━━\u001b[0m\u001b[37m\u001b[0m \u001b[1m0s\u001b[0m 825us/step - accuracy: 0.8546 - loss: 0.3852 - val_accuracy: 0.8522 - val_loss: 0.4044\n",
      "Epoch 5/50\n",
      "\u001b[1m223/223\u001b[0m \u001b[32m━━━━━━━━━━━━━━━━━━━━\u001b[0m\u001b[37m\u001b[0m \u001b[1m0s\u001b[0m 838us/step - accuracy: 0.8455 - loss: 0.3712 - val_accuracy: 0.8545 - val_loss: 0.4096\n",
      "Epoch 6/50\n",
      "\u001b[1m223/223\u001b[0m \u001b[32m━━━━━━━━━━━━━━━━━━━━\u001b[0m\u001b[37m\u001b[0m \u001b[1m0s\u001b[0m 832us/step - accuracy: 0.8480 - loss: 0.3570 - val_accuracy: 0.8534 - val_loss: 0.4094\n",
      "Epoch 7/50\n",
      "\u001b[1m223/223\u001b[0m \u001b[32m━━━━━━━━━━━━━━━━━━━━\u001b[0m\u001b[37m\u001b[0m \u001b[1m0s\u001b[0m 848us/step - accuracy: 0.8544 - loss: 0.2485 - val_accuracy: 0.8528 - val_loss: 0.4116\n",
      "Epoch 8/50\n",
      "\u001b[1m223/223\u001b[0m \u001b[32m━━━━━━━━━━━━━━━━━━━━\u001b[0m\u001b[37m\u001b[0m \u001b[1m0s\u001b[0m 828us/step - accuracy: 0.8493 - loss: 0.3220 - val_accuracy: 0.8478 - val_loss: 0.4219\n",
      "Epoch 9/50\n",
      "\u001b[1m223/223\u001b[0m \u001b[32m━━━━━━━━━━━━━━━━━━━━\u001b[0m\u001b[37m\u001b[0m \u001b[1m0s\u001b[0m 822us/step - accuracy: 0.8408 - loss: 0.3641 - val_accuracy: 0.8500 - val_loss: 0.4172\n"
     ]
    }
   ],
   "source": [
    "from sklearn.model_selection import train_test_split\n",
    "from sklearn.preprocessing import StandardScaler\n",
    "from tensorflow.keras.models import Sequential\n",
    "from tensorflow.keras.layers import Dense\n",
    "from tensorflow.keras.callbacks import EarlyStopping\n",
    "\n",
    "# Clean target\n",
    "clean_mcq_df = clean_mcq_df.dropna(subset=[\"Ever_Told_Had_Asthma\"])\n",
    "clean_mcq_df[\"Ever_Told_Had_Asthma\"] = clean_mcq_df[\"Ever_Told_Had_Asthma\"].replace({2: 0})\n",
    "\n",
    "# Feature/target split\n",
    "X = clean_mcq_df.drop(columns=[\"Ever_Told_Had_Asthma\", \"Respondent_ID\"])\n",
    "X = X.fillna(0)  # or better: impute\n",
    "y = clean_mcq_df[\"Ever_Told_Had_Asthma\"]\n",
    "\n",
    "# Train/test split\n",
    "X_train, X_test, y_train, y_test = train_test_split(X, y, test_size=0.2, random_state=42)\n",
    "\n",
    "# Scale\n",
    "scaler = StandardScaler()\n",
    "X_train_scaled = scaler.fit_transform(X_train)\n",
    "X_test_scaled = scaler.transform(X_test)\n",
    "\n",
    "# Build model\n",
    "model = Sequential([\n",
    "    Dense(64, activation='relu', input_shape=(X_train_scaled.shape[1],)),\n",
    "    Dense(32, activation='relu'),\n",
    "    Dense(1, activation='sigmoid')\n",
    "])\n",
    "\n",
    "model.compile(optimizer='adam', loss='binary_crossentropy', metrics=['accuracy'])\n",
    "\n",
    "# Train\n",
    "history = model.fit(\n",
    "    X_train_scaled, y_train,\n",
    "    validation_data=(X_test_scaled, y_test),\n",
    "    epochs=50,\n",
    "    batch_size=32,\n",
    "    callbacks=[EarlyStopping(patience=5, restore_best_weights=True)]\n",
    ")\n"
   ]
  },
  {
   "cell_type": "code",
   "execution_count": 29,
   "id": "6483c72e-8cd0-493a-9395-da5d07c13a2c",
   "metadata": {},
   "outputs": [
    {
     "data": {
      "text/plain": [
       "['asthma_scaler.pkl']"
      ]
     },
     "execution_count": 29,
     "metadata": {},
     "output_type": "execute_result"
    }
   ],
   "source": [
    "# Save model\n",
    "model.save(\"asthma_risk_model.keras\")\n",
    "\n",
    "# Save scaler\n",
    "import joblib\n",
    "joblib.dump(scaler, \"asthma_scaler.pkl\")\n"
   ]
  },
  {
   "cell_type": "code",
   "execution_count": 30,
   "id": "4e3efab6-350a-4ca9-bfdf-cd2b83e91051",
   "metadata": {},
   "outputs": [
    {
     "data": {
      "text/plain": [
       "['Respondent_ID',\n",
       " 'Ever_Told_Had_Asthma',\n",
       " 'Treated_For_Anemia_Past_3mo',\n",
       " 'Doctor_Said_Overweight',\n",
       " 'Ever_Had_Blood_Transfusion',\n",
       " 'Doctor_Said_Arthritis',\n",
       " 'Doctor_Said_Gout',\n",
       " 'Told_Had_Heart_Failure',\n",
       " 'Told_Had_Coronary_Heart_Disease',\n",
       " 'Told_Had_Angina',\n",
       " 'Told_Had_Heart_Attack',\n",
       " 'Told_Had_Stroke',\n",
       " 'Told_Had_Thyroid_Problem',\n",
       " 'Told_Had_Emphysema',\n",
       " 'Told_Had_Chronic_Bronchitis',\n",
       " 'Told_Had_COPD',\n",
       " 'Told_Had_Liver_Condition',\n",
       " 'Told_Had_Liver_Condition_Youth',\n",
       " 'Liver_Condition_Fatty_Liver',\n",
       " 'Liver_Condition_Fibrosis',\n",
       " 'Liver_Condition_Cirrhosis',\n",
       " 'Liver_Condition_Hepatitis',\n",
       " 'Liver_Condition_Autoimmune_Hepatitis',\n",
       " 'Abdominal_Pain_Past_Year',\n",
       " 'Location_Of_Most_Uncomfortable_Pain',\n",
       " 'Doctor_Said_Gallstones',\n",
       " 'Had_Gallbladder_Surgery',\n",
       " 'Told_Had_Jaundice',\n",
       " 'Told_Had_Cancer_Or_Malignancy',\n",
       " 'Type_First_Cancer',\n",
       " 'Relative_Had_Asthma',\n",
       " 'Relative_Had_Diabetes',\n",
       " 'Relative_Had_Heart_Attack',\n",
       " 'Doctor_Told_To_Lose_Weight',\n",
       " 'Doctor_Told_To_Exercise',\n",
       " 'Doctor_Told_To_Reduce_Salt',\n",
       " 'Doctor_Told_To_Reduce_Fat_Calories',\n",
       " 'Currently_Losing_Weight',\n",
       " 'Currently_Exercising',\n",
       " 'Currently_Reducing_Salt',\n",
       " 'Currently_Reducing_Fat_Calories',\n",
       " 'Currently_Taking_Osteoporosis_Meds']"
      ]
     },
     "execution_count": 30,
     "metadata": {},
     "output_type": "execute_result"
    }
   ],
   "source": [
    "clean_mcq_df.columns.tolist()"
   ]
  },
  {
   "cell_type": "code",
   "execution_count": null,
   "id": "2af8b6bd-7321-4605-b2bf-2296b88a8cf9",
   "metadata": {},
   "outputs": [],
   "source": []
  }
 ],
 "metadata": {
  "kernelspec": {
   "display_name": "Python 3 (ipykernel)",
   "language": "python",
   "name": "python3"
  },
  "language_info": {
   "codemirror_mode": {
    "name": "ipython",
    "version": 3
   },
   "file_extension": ".py",
   "mimetype": "text/x-python",
   "name": "python",
   "nbconvert_exporter": "python",
   "pygments_lexer": "ipython3",
   "version": "3.12.2"
  }
 },
 "nbformat": 4,
 "nbformat_minor": 5
}
